{
 "cells": [
  {
   "cell_type": "markdown",
   "id": "a9dac093",
   "metadata": {},
   "source": [
    "# Function\n",
    "- In python, there are two types of funtion.\n",
    "                        (built-in Funtion > print, len, string, type)\n",
    "                        (user defined function)\n",
    "- We can create our own customized function in python for code reusablility."
   ]
  },
  {
   "cell_type": "code",
   "execution_count": null,
   "id": "6c51f7b9",
   "metadata": {},
   "outputs": [],
   "source": [
    "#basic funtion\n"
   ]
  },
  {
   "cell_type": "code",
   "execution_count": null,
   "id": "88d47313",
   "metadata": {},
   "outputs": [],
   "source": [
    "def simple_funtion(): \n",
    "    print('This is user defind funtion')\n",
    "# when we exicute this then no work\n"
   ]
  },
  {
   "cell_type": "code",
   "execution_count": null,
   "id": "6c648f39",
   "metadata": {},
   "outputs": [],
   "source": [
    "simple_funtion()"
   ]
  },
  {
   "cell_type": "code",
   "execution_count": null,
   "id": "15600acd",
   "metadata": {},
   "outputs": [],
   "source": [
    "def funtion1():\n",
    "    print('This is first sentence')\n",
    "    print('This is second sentence')"
   ]
  },
  {
   "cell_type": "code",
   "execution_count": null,
   "id": "943cc650",
   "metadata": {},
   "outputs": [],
   "source": [
    "funtion1()"
   ]
  },
  {
   "cell_type": "code",
   "execution_count": null,
   "id": "8bacb4ea",
   "metadata": {},
   "outputs": [],
   "source": [
    "def funtion1():\n",
    "    print('This is first sentence')\n",
    "print('This is second sentence') #(   ) intantation "
   ]
  },
  {
   "cell_type": "code",
   "execution_count": null,
   "id": "7bbd137e",
   "metadata": {},
   "outputs": [],
   "source": [
    "funtion1()"
   ]
  },
  {
   "cell_type": "code",
   "execution_count": null,
   "id": "00db76b6",
   "metadata": {},
   "outputs": [],
   "source": [
    "#Docstring # using (shift + tab)"
   ]
  },
  {
   "cell_type": "code",
   "execution_count": null,
   "id": "fefe97f2",
   "metadata": {},
   "outputs": [],
   "source": [
    "def funtion1():\n",
    "    '''Ths funtion will print 2 sentences.'''\n",
    "    print('This is first sentence')\n",
    "    print('This is second sentence')"
   ]
  },
  {
   "cell_type": "code",
   "execution_count": null,
   "id": "87eee985",
   "metadata": {},
   "outputs": [],
   "source": [
    "funtion1()"
   ]
  },
  {
   "cell_type": "code",
   "execution_count": null,
   "id": "8184750b",
   "metadata": {},
   "outputs": [],
   "source": [
    "#write a python funtion which will return me the maximum number\n",
    "\n",
    "def max_number(num1,num2):\n",
    "    '''This function returns max number between given two number'''\n",
    "    return max(num1,num2)\n"
   ]
  },
  {
   "cell_type": "code",
   "execution_count": null,
   "id": "70393943",
   "metadata": {},
   "outputs": [],
   "source": [
    "max_number(10,5)"
   ]
  },
  {
   "cell_type": "code",
   "execution_count": null,
   "id": "ce441080",
   "metadata": {},
   "outputs": [],
   "source": [
    "max_number(58484,359465)"
   ]
  },
  {
   "cell_type": "code",
   "execution_count": null,
   "id": "9ab70bd2",
   "metadata": {},
   "outputs": [],
   "source": [
    "def max_number(a,b):\n",
    "    if a>b:\n",
    "        return a\n",
    "    else:\n",
    "        return b"
   ]
  },
  {
   "cell_type": "code",
   "execution_count": null,
   "id": "c0927919",
   "metadata": {},
   "outputs": [],
   "source": [
    "max_number(47,9)"
   ]
  },
  {
   "cell_type": "code",
   "execution_count": null,
   "id": "89a1eeed",
   "metadata": {},
   "outputs": [],
   "source": [
    "def max_num1(*numbers):  #(*) when you don't know how many no. are there.\n",
    "    return max(numbers)\n"
   ]
  },
  {
   "cell_type": "code",
   "execution_count": null,
   "id": "ed39f32d",
   "metadata": {},
   "outputs": [],
   "source": [
    "max_num1(10,2,8,6,9,7,5,9,1,1000)"
   ]
  },
  {
   "cell_type": "code",
   "execution_count": null,
   "id": "54d1c203",
   "metadata": {},
   "outputs": [],
   "source": [
    "def combine(text1, text2):\n",
    "    print(text1+text2)"
   ]
  },
  {
   "cell_type": "code",
   "execution_count": null,
   "id": "ad13ac06",
   "metadata": {},
   "outputs": [],
   "source": [
    "combine('python','Language')"
   ]
  },
  {
   "cell_type": "code",
   "execution_count": null,
   "id": "cf4d0008",
   "metadata": {},
   "outputs": [],
   "source": [
    "def combine(text1, text2):\n",
    "    print(text1+' '+text2) "
   ]
  },
  {
   "cell_type": "code",
   "execution_count": null,
   "id": "bcf6a0d4",
   "metadata": {},
   "outputs": [],
   "source": [
    "combine('python','Language')"
   ]
  },
  {
   "cell_type": "code",
   "execution_count": null,
   "id": "a891f4ac",
   "metadata": {},
   "outputs": [],
   "source": [
    "s = 'python'\n",
    "s[-1:]"
   ]
  },
  {
   "cell_type": "code",
   "execution_count": null,
   "id": "8814a83d",
   "metadata": {},
   "outputs": [],
   "source": [
    "s[1:]"
   ]
  },
  {
   "cell_type": "code",
   "execution_count": null,
   "id": "0ce12806",
   "metadata": {},
   "outputs": [],
   "source": [
    "s[::-2]"
   ]
  },
  {
   "cell_type": "code",
   "execution_count": null,
   "id": "d7c55920",
   "metadata": {},
   "outputs": [],
   "source": [
    "def reverse(text):\n",
    "    return text[::-1]"
   ]
  },
  {
   "cell_type": "code",
   "execution_count": null,
   "id": "56a8c0a0",
   "metadata": {},
   "outputs": [],
   "source": [
    "reverse('priyanshu')"
   ]
  },
  {
   "cell_type": "markdown",
   "id": "6e2c1c18",
   "metadata": {},
   "source": [
    "- Create a python function which will take 3 arguments (Id, name,age and department) of employee and it should print the below sentence:\n",
    "    - Employee ID is 'Id' . the name of employee is 'name' . He is 'age' years old and he is from 'department' department"
   ]
  },
  {
   "cell_type": "code",
   "execution_count": 8,
   "id": "7bd5953c",
   "metadata": {},
   "outputs": [],
   "source": [
    "def info(Id,name,age,department):\n",
    "    print(f\"Employee Id is {Id}. Name of the employee is {name}. he is {age} years old and he is from {department}\")"
   ]
  },
  {
   "cell_type": "code",
   "execution_count": 9,
   "id": "f40a4b7f",
   "metadata": {},
   "outputs": [
    {
     "name": "stdout",
     "output_type": "stream",
     "text": [
      "Employee Id is 10. Name of the employee is prince. he is 25 years old and he is from HR\n"
     ]
    }
   ],
   "source": [
    "info(10,'prince',25,'HR')"
   ]
  },
  {
   "cell_type": "code",
   "execution_count": null,
   "id": "bdb5d193",
   "metadata": {},
   "outputs": [],
   "source": []
  }
 ],
 "metadata": {
  "kernelspec": {
   "display_name": "Python 3 (ipykernel)",
   "language": "python",
   "name": "python3"
  },
  "language_info": {
   "codemirror_mode": {
    "name": "ipython",
    "version": 3
   },
   "file_extension": ".py",
   "mimetype": "text/x-python",
   "name": "python",
   "nbconvert_exporter": "python",
   "pygments_lexer": "ipython3",
   "version": "3.11.3"
  }
 },
 "nbformat": 4,
 "nbformat_minor": 5
}
