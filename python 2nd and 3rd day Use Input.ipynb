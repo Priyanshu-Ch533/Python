{
 "cells": [
  {
   "cell_type": "markdown",
   "id": "3d47d3bc",
   "metadata": {},
   "source": [
    "Conditional Statements"
   ]
  },
  {
   "cell_type": "markdown",
   "id": "bcea5609",
   "metadata": {},
   "source": [
    "# User input"
   ]
  },
  {
   "cell_type": "code",
   "execution_count": 3,
   "id": "7a935e72",
   "metadata": {
    "scrolled": true
   },
   "outputs": [
    {
     "name": "stdout",
     "output_type": "stream",
     "text": [
      "Priyanshu\n"
     ]
    }
   ],
   "source": [
    "name = input() # after "
   ]
  },
  {
   "cell_type": "code",
   "execution_count": 4,
   "id": "6004995e",
   "metadata": {},
   "outputs": [
    {
     "data": {
      "text/plain": [
       "'Priyanshu'"
      ]
     },
     "execution_count": 4,
     "metadata": {},
     "output_type": "execute_result"
    }
   ],
   "source": [
    "name"
   ]
  },
  {
   "cell_type": "code",
   "execution_count": 8,
   "id": "ef2ee5b7",
   "metadata": {},
   "outputs": [
    {
     "name": "stdout",
     "output_type": "stream",
     "text": [
      "Enter your age25\n"
     ]
    }
   ],
   "source": [
    "Age = input('Enter your age')"
   ]
  },
  {
   "cell_type": "code",
   "execution_count": 9,
   "id": "f539f5cb",
   "metadata": {},
   "outputs": [
    {
     "data": {
      "text/plain": [
       "'25'"
      ]
     },
     "execution_count": 9,
     "metadata": {},
     "output_type": "execute_result"
    }
   ],
   "source": [
    "Age"
   ]
  },
  {
   "cell_type": "code",
   "execution_count": 10,
   "id": "47b382b7",
   "metadata": {},
   "outputs": [
    {
     "data": {
      "text/plain": [
       "str"
      ]
     },
     "execution_count": 10,
     "metadata": {},
     "output_type": "execute_result"
    }
   ],
   "source": [
    "type(Age)"
   ]
  },
  {
   "cell_type": "code",
   "execution_count": 2,
   "id": "ee6e5a1f",
   "metadata": {},
   "outputs": [
    {
     "name": "stdout",
     "output_type": "stream",
     "text": [
      "first number: 10\n",
      "second number: 7\n"
     ]
    }
   ],
   "source": [
    "num1 = int(input('first number: '))\n",
    "num2 = input('second number: ')"
   ]
  },
  {
   "cell_type": "code",
   "execution_count": 13,
   "id": "52eb7777",
   "metadata": {},
   "outputs": [
    {
     "name": "stdout",
     "output_type": "stream",
     "text": [
      "first number:10\n",
      "second number:5\n"
     ]
    }
   ],
   "source": [
    "num3 = input('first number:')\n",
    "num4 = input('second number:')"
   ]
  },
  {
   "cell_type": "markdown",
   "id": "240f6bc3",
   "metadata": {},
   "source": [
    "# Conditional satements\n",
    "1 - If\n",
    "2 - else\n",
    "3 - elif"
   ]
  },
  {
   "cell_type": "code",
   "execution_count": 2,
   "id": "aa862b08",
   "metadata": {},
   "outputs": [
    {
     "name": "stdout",
     "output_type": "stream",
     "text": [
      "log in successful\n"
     ]
    }
   ],
   "source": [
    "userid = 'abc123'\n",
    "    \n",
    "if userid =='abc123':\n",
    "    print('log in successful')"
   ]
  },
  {
   "cell_type": "code",
   "execution_count": 4,
   "id": "036377ef",
   "metadata": {},
   "outputs": [
    {
     "name": "stdout",
     "output_type": "stream",
     "text": [
      "Try again\n"
     ]
    }
   ],
   "source": [
    "userid = 'abc1'\n",
    "    \n",
    "if userid =='abc123':\n",
    "    print('log in successful')\n",
    "else:\n",
    "    print('Try again')"
   ]
  },
  {
   "cell_type": "code",
   "execution_count": 7,
   "id": "d14570ce",
   "metadata": {},
   "outputs": [
    {
     "name": "stdout",
     "output_type": "stream",
     "text": [
      "Enter players name:virat\n",
      "yes.\n"
     ]
    }
   ],
   "source": [
    "#check whether the player is virat kolhi\n",
    "player_name = input('Enter players name:')\n",
    "\n",
    "if player_name =='virat':\n",
    "    print('yes.')"
   ]
  },
  {
   "cell_type": "code",
   "execution_count": 10,
   "id": "14db6b10",
   "metadata": {},
   "outputs": [
    {
     "name": "stdout",
     "output_type": "stream",
     "text": [
      "Enter players name:rohit\n",
      "No.\n"
     ]
    }
   ],
   "source": [
    "player_name = input('Enter players name:')\n",
    "\n",
    "if player_name =='virat':\n",
    "    print('yes.')\n",
    "else:\n",
    "    print('No.')"
   ]
  },
  {
   "cell_type": "code",
   "execution_count": 3,
   "id": "6eac5060",
   "metadata": {},
   "outputs": [
    {
     "name": "stdout",
     "output_type": "stream",
     "text": [
      "enetr any number:-8\n",
      "negative\n"
     ]
    }
   ],
   "source": [
    "#check whether the number is positive/negative/Zero\n",
    "\n",
    "number = int(input('enetr any number:'))\n",
    "\n",
    "if number > 0:\n",
    "    print('positive')\n",
    "elif number <0:\n",
    "    print('negative')\n",
    "else:\n",
    "    print('Zero')\n",
    "    \n",
    "\n"
   ]
  },
  {
   "cell_type": "code",
   "execution_count": 15,
   "id": "e256343a",
   "metadata": {},
   "outputs": [
    {
     "name": "stdout",
     "output_type": "stream",
     "text": [
      "enetr any number:8\n",
      "positive\n"
     ]
    }
   ],
   "source": [
    "number = int(input('enetr any number:'))\n",
    "\n",
    "if number > 0:\n",
    "    print('positive')"
   ]
  },
  {
   "cell_type": "code",
   "execution_count": 6,
   "id": "87e0b34d",
   "metadata": {},
   "outputs": [
    {
     "name": "stdout",
     "output_type": "stream",
     "text": [
      "enetr any number:-8\n",
      "negative\n"
     ]
    }
   ],
   "source": [
    "number = int(input('enetr any number:'))\n",
    "\n",
    "if number < 0:\n",
    "    print('negative')"
   ]
  },
  {
   "cell_type": "code",
   "execution_count": 11,
   "id": "f941471f",
   "metadata": {},
   "outputs": [
    {
     "name": "stdout",
     "output_type": "stream",
     "text": [
      "enetr any number:3\n",
      "Zero\n"
     ]
    }
   ],
   "source": [
    "number = int(input('enetr any number:'))\n",
    "\n",
    "if number > 0:\n",
    "    print('Zero')"
   ]
  },
  {
   "cell_type": "code",
   "execution_count": 14,
   "id": "263f96aa",
   "metadata": {},
   "outputs": [
    {
     "name": "stdout",
     "output_type": "stream",
     "text": [
      "enetr any number:-8\n",
      "Zero\n"
     ]
    }
   ],
   "source": [
    "number = int(input('enetr any number:'))\n",
    "\n",
    "if number < 0:\n",
    "    print('Zero')"
   ]
  },
  {
   "cell_type": "code",
   "execution_count": 4,
   "id": "8f40a2f5",
   "metadata": {},
   "outputs": [],
   "source": [
    "name = \"priynshu\""
   ]
  },
  {
   "cell_type": "code",
   "execution_count": 7,
   "id": "641bb460",
   "metadata": {},
   "outputs": [
    {
     "name": "stdout",
     "output_type": "stream",
     "text": [
      "Hi! how re you priyanshu?\n"
     ]
    }
   ],
   "source": [
    "print('Hi! how re you priyanshu?')"
   ]
  },
  {
   "cell_type": "code",
   "execution_count": 6,
   "id": "fc0622f3",
   "metadata": {},
   "outputs": [
    {
     "name": "stdout",
     "output_type": "stream",
     "text": [
      "Hi how are you priynshu ?\n"
     ]
    }
   ],
   "source": [
    "print('Hi how are you',name,'?')"
   ]
  },
  {
   "cell_type": "code",
   "execution_count": 9,
   "id": "b610392c",
   "metadata": {},
   "outputs": [
    {
     "name": "stdout",
     "output_type": "stream",
     "text": [
      "Hi, how ae you priynshu ?\n"
     ]
    }
   ],
   "source": [
    "#format\n",
    "# f for format not anything ales.\n",
    "# if we use format string then f is mandatory\n",
    "print(f\"Hi, how ae you {name} ?\") # name = priyanshu form In [4]"
   ]
  },
  {
   "cell_type": "markdown",
   "id": "d977fd2f",
   "metadata": {},
   "source": [
    "- Take input from user, name, age location, designation\n",
    "- Write this sentence: My name is 'name'. I am 'age' year old. I live in 'loction'. I work as 'designation'"
   ]
  },
  {
   "cell_type": "code",
   "execution_count": 10,
   "id": "5e31fcd6",
   "metadata": {},
   "outputs": [
    {
     "name": "stdout",
     "output_type": "stream",
     "text": [
      "Enter your name:prince\n",
      "Enter your age:23\n",
      "Enter you location:kashipur\n",
      "Enter your designation:work\n",
      "My name is prince I am  23 year old\n"
     ]
    }
   ],
   "source": [
    "name = input('Enter your name:')\n",
    "age = int(input('Enter your age:')) # when there is na no. so we can convert a no. to string using (int)\n",
    "location = input('Enter you location:')\n",
    "designation = input('Enter your designation:')\n",
    "\n",
    "print('My name is',name,'I am ',age,'year old')"
   ]
  },
  {
   "cell_type": "code",
   "execution_count": 12,
   "id": "34bc8380",
   "metadata": {},
   "outputs": [
    {
     "name": "stdout",
     "output_type": "stream",
     "text": [
      "Enter your name:prince\n",
      "Enter your age:23\n",
      "Enter you location:kashipur\n",
      "Enter your designation:Data scienctis\n",
      "My name is prince I am  23 year old\n",
      "My name is prince. I am 23 year old. I live in kashipur. I work as Data scienctis\n"
     ]
    }
   ],
   "source": [
    "#using format \n",
    "name = input('Enter your name:')\n",
    "age = int(input('Enter your age:')) # when there is na no. so we can convert a no. to string using (int)\n",
    "location = input('Enter you location:')\n",
    "designation = input('Enter your designation:')\n",
    "\n",
    "print('My name is',name,'I am ',age,'year old') # Reguraler string..\n",
    "print(f\"My name is {name}. I am {age} year old. I live in {location}. I work as {designation}\") # mostily use this .."
   ]
  },
  {
   "cell_type": "code",
   "execution_count": 13,
   "id": "2387897c",
   "metadata": {},
   "outputs": [
    {
     "name": "stdout",
     "output_type": "stream",
     "text": [
      "My name is prince. I am 23 year old. I live in kashipur. I work as Data scienctis\n"
     ]
    }
   ],
   "source": [
    "print(f\"My name is {name}. I am {age} year old. I live in {location}. I work as {designation}\")"
   ]
  },
  {
   "cell_type": "code",
   "execution_count": 3,
   "id": "71dfdcdd",
   "metadata": {},
   "outputs": [
    {
     "name": "stdout",
     "output_type": "stream",
     "text": [
      "Enter your age10\n",
      "You are nor eligible\n"
     ]
    }
   ],
   "source": [
    "#write python program which tell whether the person is eligible to do vote.\n",
    "age = int(input('Enter your age')) # first we need to convert into int or stng only the this works\n",
    " \n",
    "if age >= 18:\n",
    "    print('You are eligible')\n",
    "else:\n",
    "    print('You are nor eligible')"
   ]
  },
  {
   "cell_type": "code",
   "execution_count": 15,
   "id": "510f8da8",
   "metadata": {},
   "outputs": [
    {
     "name": "stdout",
     "output_type": "stream",
     "text": [
      "Enter your age :12\n",
      "You are nor eligible, You need to wait for 6 year.\n"
     ]
    }
   ],
   "source": [
    "age = int(input('Enter your age :')) # first we need to convert into int or stng only the this works\n",
    " \n",
    "if age >= 18:\n",
    "    print('You are eligible')\n",
    "else:\n",
    "    print('You are nor eligible, You need to wait for', 18-age, 'year.')"
   ]
  },
  {
   "cell_type": "code",
   "execution_count": 18,
   "id": "b7c78123",
   "metadata": {},
   "outputs": [
    {
     "name": "stdout",
     "output_type": "stream",
     "text": [
      "Enter your age :16\n",
      "you are not eligiable . you need to wait for more 2 years.\n"
     ]
    }
   ],
   "source": [
    "age = int(input('Enter your age :')) # first we need to convert into int or stng only the this works\n",
    " \n",
    "if age >= 18:\n",
    "    print('You are eligible')\n",
    "else:\n",
    "   # print('You are nor eligible, You need to wait for', 18-age, 'year.')\n",
    "    print(f\"you are not eligiable . you need to wait for more {18-age} years.\")"
   ]
  },
  {
   "cell_type": "code",
   "execution_count": null,
   "id": "e58b3ecb",
   "metadata": {},
   "outputs": [],
   "source": [
    "#give grades based on percentages\n",
    "#A : marks > 85\n",
    "#B : marks < 85 and > 70\n",
    "#C : marks < 70 and > 60\n",
    "#D\n",
    "# for more then 2 then use (elif)"
   ]
  },
  {
   "cell_type": "code",
   "execution_count": 22,
   "id": "ae89aaef",
   "metadata": {},
   "outputs": [
    {
     "name": "stdout",
     "output_type": "stream",
     "text": [
      "Enetr your marks:88\n",
      "A\n"
     ]
    }
   ],
   "source": [
    "marks = int(input('Enetr your marks:'))\n",
    "\n",
    "if marks >= 85:\n",
    "    print('A')\n",
    "elif (marks < 85 and marks >= 70):\n",
    "    print('B')\n",
    "elif (marks < 70 and marks >= 60):\n",
    "    print('C')\n",
    "else:\n",
    "    print('D')\n",
    "# the marks >  85"
   ]
  },
  {
   "cell_type": "code",
   "execution_count": 23,
   "id": "1da642fb",
   "metadata": {},
   "outputs": [
    {
     "name": "stdout",
     "output_type": "stream",
     "text": [
      "Enetr your marks:75\n",
      "B\n"
     ]
    }
   ],
   "source": [
    "marks = int(input('Enetr your marks:'))\n",
    "\n",
    "if marks >= 85:\n",
    "    print('A')\n",
    "elif (marks < 85 and marks >= 70):\n",
    "    print('B')\n",
    "elif (marks < 70 and marks >= 60):\n",
    "    print('C')\n",
    "else:\n",
    "    print('D')\n",
    "# the marks >  70"
   ]
  },
  {
   "cell_type": "code",
   "execution_count": 24,
   "id": "cb97feb0",
   "metadata": {},
   "outputs": [
    {
     "name": "stdout",
     "output_type": "stream",
     "text": [
      "Enetr your marks:65\n",
      "C\n"
     ]
    }
   ],
   "source": [
    "marks = int(input('Enetr your marks:'))\n",
    "\n",
    "if marks >= 85:\n",
    "    print('A')\n",
    "elif (marks < 85 and marks >= 70):\n",
    "    print('B')\n",
    "elif (marks < 70 and marks >= 60):\n",
    "    print('C')\n",
    "else:\n",
    "    print('D')\n",
    "# the maks > 60"
   ]
  },
  {
   "cell_type": "code",
   "execution_count": 26,
   "id": "1cb023ab",
   "metadata": {},
   "outputs": [
    {
     "name": "stdout",
     "output_type": "stream",
     "text": [
      "Enetr your marks:59\n",
      "D\n"
     ]
    }
   ],
   "source": [
    "marks = int(input('Enetr your marks:'))\n",
    "\n",
    "if marks >= 85:\n",
    "    print('A')\n",
    "elif (marks < 85 and marks >= 70):\n",
    "    print('B')\n",
    "elif (marks < 70 and marks >= 60):\n",
    "    print('C')\n",
    "else:\n",
    "    print('D')\n",
    "# the marks < 60"
   ]
  },
  {
   "cell_type": "markdown",
   "id": "33ca3669",
   "metadata": {},
   "source": [
    "Class room work and project\n",
    "- Write a program which will print Century if the player has made more then 100 runs else it shold write how many more runs he needs to have to complete the century\n",
    "- Write a program to check the number is one digited, two digited and three digited.\n",
    "- Write a program to check whether the user has entered number 99 or not.\n"
   ]
  },
  {
   "cell_type": "code",
   "execution_count": 2,
   "id": "a6e6df02",
   "metadata": {},
   "outputs": [
    {
     "name": "stdout",
     "output_type": "stream",
     "text": [
      "Enter the run:98\n",
      "you need to make more 2 runs.\n"
     ]
    }
   ],
   "source": [
    "runs = int(input('Enter the run:'))\n",
    "\n",
    "if runs >=100:\n",
    "    print('century')\n",
    "else:\n",
    "    print(f\"you need to make more {100-runs} runs.\")"
   ]
  },
  {
   "cell_type": "code",
   "execution_count": 5,
   "id": "d259d062",
   "metadata": {},
   "outputs": [
    {
     "name": "stdout",
     "output_type": "stream",
     "text": [
      "Enter any number:1\n",
      "One digited\n"
     ]
    }
   ],
   "source": [
    "num = int(input('Enter any number:'))\n",
    "\n",
    "if num < 10:\n",
    "    print('One digited')\n",
    "elif (num >= 10 and num < 100):\n",
    "    print('Teo digited')\n",
    "elif (num >=100 and num < 1000):\n",
    "    print ('Three digited')\n",
    "else:\n",
    "        print('Invalid')"
   ]
  },
  {
   "cell_type": "code",
   "execution_count": 12,
   "id": "249cfb81",
   "metadata": {},
   "outputs": [
    {
     "name": "stdout",
     "output_type": "stream",
     "text": [
      "Enter any number:10\n",
      "Two digited\n"
     ]
    }
   ],
   "source": [
    "num = int(input('Enter any number:'))\n",
    "\n",
    "if num < 10:\n",
    "    print('One digited')\n",
    "elif (num >= 10 and num < 100):\n",
    "    print('Two digited')\n",
    "elif (num >=100 and num < 1000):\n",
    "    print ('Three digited')\n",
    "else:\n",
    "        print('Invalid')"
   ]
  },
  {
   "cell_type": "code",
   "execution_count": 11,
   "id": "d8233c98",
   "metadata": {},
   "outputs": [
    {
     "name": "stdout",
     "output_type": "stream",
     "text": [
      "Enter any number:100\n",
      "Three digited\n"
     ]
    }
   ],
   "source": [
    "num = int(input('Enter any number:'))\n",
    "\n",
    "if num < 10:\n",
    "    print('One digited')\n",
    "elif (num >= 10 and num < 100):\n",
    "    print('Teo digited')\n",
    "elif (num >=100 and num < 1000):\n",
    "    print ('Three digited')\n",
    "else:\n",
    "        print('Invalid')"
   ]
  },
  {
   "cell_type": "code",
   "execution_count": 6,
   "id": "b9cea10b",
   "metadata": {
    "scrolled": true
   },
   "outputs": [
    {
     "name": "stdout",
     "output_type": "stream",
     "text": [
      "Enetr any number:98\n",
      "No\n"
     ]
    }
   ],
   "source": [
    "number = int(input('Enetr any number:'))\n",
    "\n",
    "if number == 99:\n",
    "    print('yes')\n",
    "else:\n",
    "    print('No')"
   ]
  },
  {
   "cell_type": "code",
   "execution_count": null,
   "id": "2a821bba",
   "metadata": {},
   "outputs": [],
   "source": []
  }
 ],
 "metadata": {
  "kernelspec": {
   "display_name": "Python 3 (ipykernel)",
   "language": "python",
   "name": "python3"
  },
  "language_info": {
   "codemirror_mode": {
    "name": "ipython",
    "version": 3
   },
   "file_extension": ".py",
   "mimetype": "text/x-python",
   "name": "python",
   "nbconvert_exporter": "python",
   "pygments_lexer": "ipython3",
   "version": "3.11.3"
  }
 },
 "nbformat": 4,
 "nbformat_minor": 5
}
