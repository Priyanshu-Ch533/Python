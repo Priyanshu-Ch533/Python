{
 "cells": [
  {
   "cell_type": "markdown",
   "id": "1c71fb63",
   "metadata": {},
   "source": [
    "# Print First 10 natural numbers using while loop"
   ]
  },
  {
   "cell_type": "code",
   "execution_count": 1,
   "id": "5178c441",
   "metadata": {},
   "outputs": [
    {
     "name": "stdout",
     "output_type": "stream",
     "text": [
      "1\n",
      "2\n",
      "3\n",
      "4\n",
      "5\n",
      "6\n",
      "7\n",
      "8\n",
      "9\n",
      "10\n"
     ]
    }
   ],
   "source": [
    "# program 1: Print first 10 natural numbers\n",
    "i = 1\n",
    "while i <= 10:\n",
    "    print(i)\n",
    "    i += 1"
   ]
  },
  {
   "cell_type": "markdown",
   "id": "59161ef0",
   "metadata": {},
   "source": [
    "# Write a program to print the following number pattern using a loop."
   ]
  },
  {
   "cell_type": "code",
   "execution_count": 2,
   "id": "d799e277",
   "metadata": {},
   "outputs": [
    {
     "name": "stdout",
     "output_type": "stream",
     "text": [
      "Number Pattern \n",
      "1 \n",
      "1 2 \n",
      "1 2 3 \n",
      "1 2 3 4 \n",
      "1 2 3 4 5 \n"
     ]
    }
   ],
   "source": [
    "print(\"Number Pattern \")\n",
    "\n",
    "# Decide the row count. (above pattern contains 5 rows)\n",
    "row = 5\n",
    "# start: 1\n",
    "# stop: row+1 (range never include stop number in result)\n",
    "# step: 1\n",
    "# run loop 5 times\n",
    "for i in range(1, row + 1, 1):\n",
    "    # Run inner loop i+1 times\n",
    "    for j in range(1, i + 1):\n",
    "        print(j, end=' ')\n",
    "    # empty line after each row\n",
    "    print(\"\")"
   ]
  },
  {
   "cell_type": "code",
   "execution_count": null,
   "id": "f160ff99",
   "metadata": {},
   "outputs": [],
   "source": [
    "Decide the row count, i.e., 5, because the pattern contains five rows\n",
    "Run outer for loop 5 times using for loop and range() function\n",
    "Run inner for loop i+1 times using for loop and range() function\n",
    "In the first iteration of the outer loop, the inner loop will execute 1 time\n",
    "In the second iteration of the outer loop, the inner loop will execute 2 time\n",
    "In the third iteration of the outer loop, the inner loop will execute 3 times, and so on till row 5\n",
    "print the value of j in each iteration of inner loop (j is the the inner loop iterator variable)\n",
    "Display an empty line at the end of each iteration of the outer loop (empty line after each row)"
   ]
  },
  {
   "cell_type": "markdown",
   "id": "58193d9c",
   "metadata": {},
   "source": [
    "# Write a program to accept a number from a user and calculate the sum of all numbers from 1 to a given number \n",
    "For example, if the user entered 10 the output should be 55 (1+2+3+4+5+6+7+8+9+10)"
   ]
  },
  {
   "cell_type": "code",
   "execution_count": 3,
   "id": "183eef51",
   "metadata": {},
   "outputs": [
    {
     "name": "stdout",
     "output_type": "stream",
     "text": [
      "Enter number 5\n",
      "\n",
      "\n",
      "Sum is:  15\n"
     ]
    }
   ],
   "source": [
    "# s: store sum of all numbers\n",
    "s = 0\n",
    "n = int(input(\"Enter number \"))\n",
    "# run loop n times\n",
    "# stop: n+1 (because range never include stop number in result)\n",
    "for i in range(1, n + 1, 1):\n",
    "    # add current number to sum variable\n",
    "    s += i\n",
    "print(\"\\n\")\n",
    "print(\"Sum is: \", s)"
   ]
  },
  {
   "cell_type": "code",
   "execution_count": 4,
   "id": "1ffe8ca9",
   "metadata": {},
   "outputs": [
    {
     "name": "stdout",
     "output_type": "stream",
     "text": [
      "Enter number 6\n",
      "Sum is: 21\n"
     ]
    }
   ],
   "source": [
    "# second Method\n",
    "n = int(input(\"Enter number \"))\n",
    "# pass range of numbers to sum() function\n",
    "x = sum(range(1, n + 1))\n",
    "print('Sum is:', x)"
   ]
  },
  {
   "cell_type": "code",
   "execution_count": null,
   "id": "4b39ec55",
   "metadata": {},
   "outputs": [],
   "source": [
    "First method 1: Use for loop and range() function\n",
    "\n",
    "Create variable s = 0 to store the sum of all numbers\n",
    "Use Python 3’s built-in function input() to take input from a user\n",
    "Convert user input to the integer type using the int() constructor and save it to variable n\n",
    "Run loop n times using for loop and range() function\n",
    "In each iteration of a loop, add current number (i) to variable s\n",
    "Use the print() function to display the variable s on screen\n",
    "\n",
    "Second method 2: Use the built-in function sum(). The sum() function calculates the addition of numbers in the list or range"
   ]
  },
  {
   "cell_type": "markdown",
   "id": "6b9b6369",
   "metadata": {},
   "source": [
    "# Write a program to print multiplication table of a given number\n",
    "For example, num = 2 so the output should be"
   ]
  },
  {
   "cell_type": "code",
   "execution_count": 5,
   "id": "c9364e4d",
   "metadata": {},
   "outputs": [
    {
     "name": "stdout",
     "output_type": "stream",
     "text": [
      "2\n",
      "4\n",
      "6\n",
      "8\n",
      "10\n",
      "12\n",
      "14\n",
      "16\n",
      "18\n",
      "20\n"
     ]
    }
   ],
   "source": [
    "n = 2\n",
    "# stop: 11 (because range never include stop number in result)\n",
    "# run loop 10 times\n",
    "for i in range(1, 11, 1):\n",
    "    # 2 *i (current number)\n",
    "    product = n * i\n",
    "    print(product)"
   ]
  },
  {
   "cell_type": "code",
   "execution_count": null,
   "id": "2aa4b7b6",
   "metadata": {},
   "outputs": [],
   "source": [
    "Set n =2\n",
    "Use for loop to iterate the first 10 numbers\n",
    "In each iteration, multiply 2 by the current number.( p = n*i)\n",
    "Print p"
   ]
  },
  {
   "cell_type": "markdown",
   "id": "c8aa548a",
   "metadata": {},
   "source": [
    "# Display numbers from a list using loop\n",
    "- Write a program to display only those numbers from a list that satisfy the following conditions\n",
    "\n",
    "- The number must be divisible by five\n",
    "- If the number is greater than 150, then skip it and move to the next number\n",
    "- If the number is greater than 500, then stop the loop\n",
    "\n",
    "numbers = [12, 75, 150, 180, 145, 525, 50]"
   ]
  },
  {
   "cell_type": "code",
   "execution_count": 6,
   "id": "0b307105",
   "metadata": {},
   "outputs": [
    {
     "name": "stdout",
     "output_type": "stream",
     "text": [
      "75\n",
      "150\n",
      "145\n"
     ]
    }
   ],
   "source": [
    "numbers = [12, 75, 150, 180, 145, 525, 50]\n",
    "# iterate each item of a list\n",
    "for item in numbers:\n",
    "    if item > 500:\n",
    "        break\n",
    "    elif item > 150:\n",
    "        continue\n",
    "    # check if number is divisible by 5\n",
    "    elif item % 5 == 0:\n",
    "        print(item)"
   ]
  },
  {
   "cell_type": "code",
   "execution_count": null,
   "id": "b42efd71",
   "metadata": {},
   "outputs": [],
   "source": [
    "Use for loop to iterate each item of a list\n",
    "Use break statement to break the loop if the current number is greater than 500\n",
    "use continue statement move to next number if the current number is greater than 150\n",
    "Use number % 5 == 0 condition to check if number is divisible by 5"
   ]
  },
  {
   "cell_type": "markdown",
   "id": "a5461f02",
   "metadata": {},
   "source": [
    "# Count the total number of digits in a number\n",
    "- Write a program to count the total number of digits in a number using a while loop.\n",
    "\n",
    "\n",
    "+ For example, the number is 75869, so the output should be 5."
   ]
  },
  {
   "cell_type": "code",
   "execution_count": 7,
   "id": "82796a3e",
   "metadata": {},
   "outputs": [
    {
     "name": "stdout",
     "output_type": "stream",
     "text": [
      "Total digits are: 5\n"
     ]
    }
   ],
   "source": [
    "num = 75869\n",
    "count = 0\n",
    "while num != 0:\n",
    "    # floor division\n",
    "    # to reduce the last digit from number\n",
    "    num = num // 10\n",
    "\n",
    "    # increment counter by 1\n",
    "    count = count + 1\n",
    "print(\"Total digits are:\", count)"
   ]
  },
  {
   "cell_type": "code",
   "execution_count": null,
   "id": "b2edefca",
   "metadata": {},
   "outputs": [],
   "source": [
    "Set counter = 0\n",
    "Run while loop till number != 0\n",
    "In each iteration of loop\n",
    "Reduce the last digit from the number using floor division ( number = number // 10)\n",
    "Increment counter by 1\n",
    "print counter"
   ]
  },
  {
   "cell_type": "markdown",
   "id": "542e244b",
   "metadata": {},
   "source": [
    "# Write a program to use for loop to print the following reverse number pattern"
   ]
  },
  {
   "cell_type": "code",
   "execution_count": 8,
   "id": "ed138b30",
   "metadata": {},
   "outputs": [
    {
     "name": "stdout",
     "output_type": "stream",
     "text": [
      "5 4 3 2 1 \n",
      "4 3 2 1 \n",
      "3 2 1 \n",
      "2 1 \n",
      "1 \n",
      "\n"
     ]
    }
   ],
   "source": [
    "n = 5\n",
    "k = 5\n",
    "for i in range(0,n+1):\n",
    "    for j in range(k-i,0,-1):\n",
    "        print(j,end=' ')\n",
    "    print()"
   ]
  },
  {
   "cell_type": "code",
   "execution_count": null,
   "id": "565ba1ff",
   "metadata": {},
   "outputs": [],
   "source": [
    "Set row = 5 because the above pattern contains five rows\n",
    "create an outer loop to iterate numbers from 1 to 5 using for loop and range() function\n",
    "Create an inner loop inside the outer loop in such a way that in each iteration of the outer loop, the inner loop iteration will be reduced by i. i is the current number of an outer loop\n",
    "In each iteration of the inner loop, print the iterator variable of the inner loop (j)\n",
    "\n",
    "Note:\n",
    "In the first iteration of the outer loop inner loop execute five times.\n",
    "In the second iteration of the outer loop inner loop execute four times.\n",
    "In the last iteration of the outer loop, the inner loop will execute only once"
   ]
  },
  {
   "cell_type": "markdown",
   "id": "262ca27d",
   "metadata": {},
   "source": [
    "# Print list in reverse order using a loop\n",
    "Given:\n",
    "\n",
    "\n",
    "list1 = [10, 20, 30, 40, 50]"
   ]
  },
  {
   "cell_type": "code",
   "execution_count": 9,
   "id": "ece31cc3",
   "metadata": {},
   "outputs": [
    {
     "name": "stdout",
     "output_type": "stream",
     "text": [
      "50\n",
      "40\n",
      "30\n",
      "20\n",
      "10\n"
     ]
    }
   ],
   "source": [
    "list1 = [10, 20, 30, 40, 50]\n",
    "# reverse list\n",
    "new_list = reversed(list1)\n",
    "# iterate reversed list\n",
    "for item in new_list:\n",
    "    print(item)"
   ]
  },
  {
   "cell_type": "code",
   "execution_count": 10,
   "id": "d6e42542",
   "metadata": {},
   "outputs": [
    {
     "name": "stdout",
     "output_type": "stream",
     "text": [
      "50\n",
      "40\n",
      "30\n",
      "20\n",
      "10\n"
     ]
    }
   ],
   "source": [
    "# Second method\n",
    "list1 = [10, 20, 30, 40, 50]\n",
    "# get list size\n",
    "# len(list1) -1: because index start with 0\n",
    "# iterate list in reverse order\n",
    "# star from last item to first\n",
    "size = len(list1) - 1\n",
    "for i in range(size, -1, -1):\n",
    "    print(list1[i])"
   ]
  },
  {
   "cell_type": "code",
   "execution_count": null,
   "id": "8b7e9e80",
   "metadata": {},
   "outputs": [],
   "source": [
    "First method 1: Use the built-in function reversed() to reverse the list\n",
    "\n",
    "Second method 2: Use for loop and the len() function\n",
    "\n",
    "Get the size of a list using the len(list1) function\n",
    "Use for loop and reverse range() to iterate index number in reverse order starting from length-1 to 0. In each iteration, i will be reduced by 1\n",
    "In each iteration, print list item using list1[i]. i is the current value if the index"
   ]
  },
  {
   "cell_type": "markdown",
   "id": "becac99d",
   "metadata": {},
   "source": [
    "# Display numbers from -10 to -1 using for loop\n",
    "- Expected output:\n",
    "\n",
    "-10\n",
    "-9\n",
    "-8\n",
    "-7\n",
    "-6\n",
    "-5\n",
    "-4\n",
    "-3\n",
    "-2\n",
    "-1"
   ]
  },
  {
   "cell_type": "code",
   "execution_count": 11,
   "id": "2c3a1446",
   "metadata": {},
   "outputs": [
    {
     "name": "stdout",
     "output_type": "stream",
     "text": [
      "-10\n",
      "-9\n",
      "-8\n",
      "-7\n",
      "-6\n",
      "-5\n",
      "-4\n",
      "-3\n",
      "-2\n",
      "-1\n"
     ]
    }
   ],
   "source": [
    "for num in range(-10, 0, 1):\n",
    "    print(num)"
   ]
  },
  {
   "cell_type": "markdown",
   "id": "6c9cd285",
   "metadata": {},
   "source": [
    "# Use else block to display a message “Done” after successful execution of for loop\n",
    " - For example, the following loop will execute without any error.\n",
    "\n"
   ]
  },
  {
   "cell_type": "code",
   "execution_count": null,
   "id": "1f571e81",
   "metadata": {},
   "outputs": [],
   "source": [
    "- Given:\n",
    "\n",
    "for i in range(5):\n",
    "    print(i) "
   ]
  },
  {
   "cell_type": "code",
   "execution_count": 13,
   "id": "08e88dc3",
   "metadata": {},
   "outputs": [
    {
     "name": "stdout",
     "output_type": "stream",
     "text": [
      "0\n",
      "1\n",
      "2\n",
      "3\n",
      "4\n",
      "Done!\n"
     ]
    }
   ],
   "source": [
    "for i in range(5):\n",
    "    print(i)\n",
    "else:\n",
    "    print(\"Done!\")"
   ]
  },
  {
   "cell_type": "code",
   "execution_count": null,
   "id": "a2a74e05",
   "metadata": {},
   "outputs": [],
   "source": [
    "Same as the if statement, Python allows us to use an else block along with for loop. for loop can have the else block, which will be executed when the loop terminates normally."
   ]
  },
  {
   "cell_type": "markdown",
   "id": "85d047f8",
   "metadata": {},
   "source": [
    "# Write a program to display all prime numbers within a range\n",
    "- Note: A Prime Number is a number that cannot be made by multiplying other whole numbers. A prime number is a natural number greater than 1 that is not a product of two smaller natural numbers\n",
    "\n",
    "Examples:\n",
    "\n",
    "6 is not a prime mumber because it can be made by 2×3 = 6\n",
    "37 is a prime number because no other whole numbers multiply together to make it.\n",
    "Given:\n",
    "\n"
   ]
  },
  {
   "cell_type": "code",
   "execution_count": null,
   "id": "6d430a93",
   "metadata": {},
   "outputs": [],
   "source": [
    "#range\n",
    "start = 25\n",
    "end = 50"
   ]
  },
  {
   "cell_type": "code",
   "execution_count": 14,
   "id": "bf9afe2e",
   "metadata": {},
   "outputs": [
    {
     "name": "stdout",
     "output_type": "stream",
     "text": [
      "Prime numbers between 25 and 50 are:\n",
      "29\n",
      "31\n",
      "37\n",
      "41\n",
      "43\n",
      "47\n"
     ]
    }
   ],
   "source": [
    "start = 25\n",
    "end = 50\n",
    "print(\"Prime numbers between\", start, \"and\", end, \"are:\")\n",
    "\n",
    "for num in range(start, end + 1):\n",
    "    # all prime numbers are greater than 1\n",
    "    # if number is less than or equal to 1, it is not prime\n",
    "    if num > 1:\n",
    "        for i in range(2, num):\n",
    "            # check for factors\n",
    "            if (num % i) == 0:\n",
    "                # not a prime number so break inner loop and\n",
    "                # look for next number\n",
    "                break\n",
    "        else:\n",
    "            print(num)"
   ]
  },
  {
   "cell_type": "markdown",
   "id": "7d28ccee",
   "metadata": {},
   "source": [
    "# Display Fibonacci series up to 10 terms\n",
    "The Fibonacci Sequence is a series of numbers. The next number is found by adding up the two numbers before it. The first two numbers are 0 and 1.\n",
    "\n",
    "For example, 0, 1, 1, 2, 3, 5, 8, 13, 21. The next number in this series above is 13+21 = 34.\n",
    "\n",
    "Expected output:\n",
    "\n",
    "Fibonacci sequence:\n",
    "0  1  1  2  3  5  8  13  21  34"
   ]
  },
  {
   "cell_type": "code",
   "execution_count": 16,
   "id": "e10abbb7",
   "metadata": {},
   "outputs": [
    {
     "name": "stdout",
     "output_type": "stream",
     "text": [
      "Fibonacci sequence:\n",
      "0  1  1  2  3  5  8  13  21  34  "
     ]
    }
   ],
   "source": [
    "# first two numbers\n",
    "num1, num2 = 0, 1\n",
    "\n",
    "print(\"Fibonacci sequence:\")\n",
    "# run loop 10 times\n",
    "for i in range(10):\n",
    "    # print next number of a series\n",
    "    print(num1, end=\"  \")\n",
    "    # add last two numbers to get next number\n",
    "    res = num1 + num2\n",
    "\n",
    "    # update values\n",
    "    num1 = num2\n",
    "    num2 = res"
   ]
  },
  {
   "cell_type": "code",
   "execution_count": null,
   "id": "4d87adb0",
   "metadata": {},
   "outputs": [],
   "source": [
    "Set num1 = 0 and num2 =1 (first two numbers of the sequence)\n",
    "Run loop ten times\n",
    "In each iteration\n",
    "print num1 as the current number of the sequence\n",
    "Add last two numbers to get the next number res = num1+ num2\n",
    "update values of num1 and num2. Set num1=num2 and num2=res"
   ]
  },
  {
   "cell_type": "markdown",
   "id": "48f189dd",
   "metadata": {},
   "source": [
    "# Find the factorial of a given number\n",
    "Write a program to use the loop to find the factorial of a given number.\n",
    "\n",
    "The factorial (symbol: !) means to multiply all whole numbers from the chosen number down to 1.\n",
    "\n",
    "For example: calculate the factorial of 5\n",
    "\n",
    "\n",
    "5! = 5 × 4 × 3 × 2 × 1 = 120"
   ]
  },
  {
   "cell_type": "code",
   "execution_count": 17,
   "id": "756eff80",
   "metadata": {},
   "outputs": [
    {
     "name": "stdout",
     "output_type": "stream",
     "text": [
      "The factorial of 5 is 120\n"
     ]
    }
   ],
   "source": [
    "num = 5\n",
    "factorial = 1\n",
    "if num < 0:\n",
    "    print(\"Factorial does not exist for negative numbers\")\n",
    "elif num == 0:\n",
    "    print(\"The factorial of 0 is 1\")\n",
    "else:\n",
    "    # run loop 5 times\n",
    "    for i in range(1, num + 1):\n",
    "        # multiply factorial by current number\n",
    "        factorial = factorial * i\n",
    "    print(\"The factorial of\", num, \"is\", factorial)"
   ]
  },
  {
   "cell_type": "code",
   "execution_count": null,
   "id": "b19eb88b",
   "metadata": {},
   "outputs": [],
   "source": [
    "Set variable factorial =1 to store factorial of a given number\n",
    "Iterate numbers starting from 1 to the given number n using for loop and range() function. (here, the loop will run five times because n is 5)\n",
    "In each iteration, multiply factorial by the current number and assign it again to a factorial variable (factorial = factorial *i)\n",
    "After the loop completes, print factorial"
   ]
  },
  {
   "cell_type": "markdown",
   "id": "27e9beb3",
   "metadata": {},
   "source": [
    "# Reverse a given integer number\n",
    "Given:\n",
    "\n",
    "76542"
   ]
  },
  {
   "cell_type": "code",
   "execution_count": 18,
   "id": "68ecb957",
   "metadata": {},
   "outputs": [
    {
     "name": "stdout",
     "output_type": "stream",
     "text": [
      "Given Number  76542\n",
      "Revere Number  24567\n"
     ]
    }
   ],
   "source": [
    "num = 76542\n",
    "reverse_number = 0\n",
    "print(\"Given Number \", num)\n",
    "while num > 0:\n",
    "    reminder = num % 10\n",
    "    reverse_number = (reverse_number * 10) + reminder\n",
    "    num = num // 10\n",
    "print(\"Revere Number \", reverse_number)"
   ]
  },
  {
   "cell_type": "markdown",
   "id": "6972d705",
   "metadata": {},
   "source": [
    "# Use a loop to display elements from a given list present at odd index positions\n",
    "\n",
    "Given:\n",
    "\n",
    "my_list = [10, 20, 30, 40, 50, 60, 70, 80, 90, 100]\n",
    "- Note: list index always starts at 0"
   ]
  },
  {
   "cell_type": "code",
   "execution_count": 19,
   "id": "7e26e5f0",
   "metadata": {},
   "outputs": [
    {
     "name": "stdout",
     "output_type": "stream",
     "text": [
      "20 40 60 80 100 "
     ]
    }
   ],
   "source": [
    "my_list = [10, 20, 30, 40, 50, 60, 70, 80, 90, 100]\n",
    "# stat from index 1 with step 2( means 1, 3, 5, an so on)\n",
    "for i in my_list[1::2]:\n",
    "    print(i, end=\" \")"
   ]
  },
  {
   "cell_type": "code",
   "execution_count": null,
   "id": "b8030662",
   "metadata": {},
   "outputs": [],
   "source": [
    "Use list slicing. Using list slicing, we can access a range of elements from a list"
   ]
  },
  {
   "cell_type": "markdown",
   "id": "a491c5f4",
   "metadata": {},
   "source": [
    "# Calculate the cube of all numbers from 1 to a given number\n",
    "Write a program to rint the cube of all numbers from 1 to a given number\n",
    "\n",
    "Given:\n",
    "\n",
    "input_number = 6"
   ]
  },
  {
   "cell_type": "code",
   "execution_count": 20,
   "id": "c4bc531b",
   "metadata": {},
   "outputs": [
    {
     "name": "stdout",
     "output_type": "stream",
     "text": [
      "Current Number is : 1  and the cube is 1\n",
      "Current Number is : 2  and the cube is 8\n",
      "Current Number is : 3  and the cube is 27\n",
      "Current Number is : 4  and the cube is 64\n",
      "Current Number is : 5  and the cube is 125\n",
      "Current Number is : 6  and the cube is 216\n"
     ]
    }
   ],
   "source": [
    "input_number = 6\n",
    "for i in range(1, input_number + 1):\n",
    "    print(\"Current Number is :\", i, \" and the cube is\", (i * i * i))"
   ]
  },
  {
   "cell_type": "code",
   "execution_count": null,
   "id": "fb15965e",
   "metadata": {},
   "outputs": [],
   "source": [
    "Iterate numbers from 1 to n using for loop and range() function\n",
    "In each iteration of a loop, calculate the cube of a current number (i) by multiplying itself three times (c = i * i* i)"
   ]
  },
  {
   "cell_type": "markdown",
   "id": "37655fbb",
   "metadata": {},
   "source": [
    "# Find the sum of the series upto n terms\n",
    "Write a program to calculate the sum of series up to n term. For example, if n =5 the series will become 2 + 22 + 222 + 2222 + 22222 = 24690\n",
    "- Given:\n",
    "\n",
    " number of terms\n",
    "n = 5"
   ]
  },
  {
   "cell_type": "code",
   "execution_count": 21,
   "id": "66e8fc0e",
   "metadata": {},
   "outputs": [
    {
     "name": "stdout",
     "output_type": "stream",
     "text": [
      "2+22+222+2222+22222+\n",
      "Sum of above series is: 24690\n"
     ]
    }
   ],
   "source": [
    "n = 5\n",
    "# first number of sequence\n",
    "start = 2\n",
    "sum_seq = 0\n",
    "\n",
    "# run loop n times\n",
    "for i in range(0, n):\n",
    "    print(start, end=\"+\")\n",
    "    sum_seq += start\n",
    "    # calculate the next term\n",
    "    start = start * 10 + 2\n",
    "print(\"\\nSum of above series is:\", sum_seq)"
   ]
  },
  {
   "cell_type": "markdown",
   "id": "1855eac2",
   "metadata": {},
   "source": [
    "# Print the following pattern\n",
    "Write a program to print the following start pattern using the for loop"
   ]
  },
  {
   "cell_type": "code",
   "execution_count": 22,
   "id": "f53fc91a",
   "metadata": {},
   "outputs": [
    {
     "name": "stdout",
     "output_type": "stream",
     "text": [
      "* \r\n",
      "* * \r\n",
      "* * * \r\n",
      "* * * * \r\n",
      "* * * * * \r\n",
      "* * * * \r\n",
      "* * * \r\n",
      "* * \r\n",
      "* \r\n",
      "\r\n"
     ]
    }
   ],
   "source": [
    "rows = 5\n",
    "for i in range(0, rows):\n",
    "    for j in range(0, i + 1):\n",
    "        print(\"*\", end=' ')\n",
    "    print(\"\\r\")\n",
    "\n",
    "for i in range(rows, 0, -1):\n",
    "    for j in range(0, i - 1):\n",
    "        print(\"*\", end=' ')\n",
    "    print(\"\\r\")"
   ]
  },
  {
   "cell_type": "code",
   "execution_count": null,
   "id": "66d01195",
   "metadata": {},
   "outputs": [],
   "source": [
    "Use two for loops. First for loop to print the upper pattern and second for loop to print lower pattern\n",
    "\n",
    "First Pattern:\n",
    "\n",
    "* \n",
    "* * \n",
    "* * * \n",
    "* * * * \n",
    "* * * * * \n",
    "Second Pattern:\n",
    "\n",
    "* * * * \n",
    "* * * \n",
    "* * \n",
    "*"
   ]
  }
 ],
 "metadata": {
  "kernelspec": {
   "display_name": "Python 3 (ipykernel)",
   "language": "python",
   "name": "python3"
  },
  "language_info": {
   "codemirror_mode": {
    "name": "ipython",
    "version": 3
   },
   "file_extension": ".py",
   "mimetype": "text/x-python",
   "name": "python",
   "nbconvert_exporter": "python",
   "pygments_lexer": "ipython3",
   "version": "3.11.3"
  }
 },
 "nbformat": 4,
 "nbformat_minor": 5
}
