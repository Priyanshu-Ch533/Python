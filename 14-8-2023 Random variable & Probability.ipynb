{
 "cells": [
  {
   "cell_type": "code",
   "execution_count": null,
   "id": "62fd0cd7",
   "metadata": {},
   "outputs": [],
   "source": []
  },
  {
   "cell_type": "code",
   "execution_count": 1,
   "id": "b65a66e1",
   "metadata": {},
   "outputs": [],
   "source": [
    "from scipy import stats"
   ]
  },
  {
   "cell_type": "code",
   "execution_count": 2,
   "id": "9fcc60f5",
   "metadata": {},
   "outputs": [
    {
     "data": {
      "text/plain": [
       "0.9087887802741321"
      ]
     },
     "execution_count": 2,
     "metadata": {},
     "output_type": "execute_result"
    }
   ],
   "source": [
    "stats.norm.cdf(72,68,3) # from left hand side probalitity"
   ]
  },
  {
   "cell_type": "code",
   "execution_count": 3,
   "id": "92eeb5fb",
   "metadata": {},
   "outputs": [
    {
     "data": {
      "text/plain": [
       "0.09121121972586788"
      ]
     },
     "execution_count": 3,
     "metadata": {},
     "output_type": "execute_result"
    }
   ],
   "source": [
    "1-stats.norm.cdf(72,68,3)"
   ]
  },
  {
   "cell_type": "code",
   "execution_count": 4,
   "id": "2ddfb6fa",
   "metadata": {},
   "outputs": [
    {
     "data": {
      "text/plain": [
       "0.8413447460685429"
      ]
     },
     "execution_count": 4,
     "metadata": {},
     "output_type": "execute_result"
    }
   ],
   "source": [
    "stats.norm.cdf(70,60,10)#x= 70, X=60, sd = 10"
   ]
  },
  {
   "cell_type": "code",
   "execution_count": 5,
   "id": "92ab94c2",
   "metadata": {},
   "outputs": [
    {
     "data": {
      "text/plain": [
       "0.15865525393145707"
      ]
     },
     "execution_count": 5,
     "metadata": {},
     "output_type": "execute_result"
    }
   ],
   "source": [
    "1-stats.norm.cdf(70,60,10)#if the Grearter then 70"
   ]
  },
  {
   "cell_type": "code",
   "execution_count": 6,
   "id": "57dd55f2",
   "metadata": {},
   "outputs": [
    {
     "data": {
      "text/plain": [
       "0.14254260383881612"
      ]
     },
     "execution_count": 6,
     "metadata": {},
     "output_type": "execute_result"
    }
   ],
   "source": [
    "#Inclass question\n",
    "stats.norm.cdf(680,711,29)"
   ]
  },
  {
   "cell_type": "code",
   "execution_count": 7,
   "id": "cbcf0c72",
   "metadata": {},
   "outputs": [
    {
     "data": {
      "text/plain": [
       "0.8574573961611839"
      ]
     },
     "execution_count": 7,
     "metadata": {},
     "output_type": "execute_result"
    }
   ],
   "source": [
    "1-stats.norm.cdf(680,711,29)"
   ]
  },
  {
   "cell_type": "code",
   "execution_count": 8,
   "id": "680d573d",
   "metadata": {},
   "outputs": [
    {
     "data": {
      "text/plain": [
       "0.5548525385738157"
      ]
     },
     "execution_count": 8,
     "metadata": {},
     "output_type": "execute_result"
    }
   ],
   "source": [
    "stats.norm.cdf(715,711,29)"
   ]
  },
  {
   "cell_type": "code",
   "execution_count": 9,
   "id": "c1f2ef27",
   "metadata": {},
   "outputs": [
    {
     "data": {
      "text/plain": [
       "0.44514746142618433"
      ]
     },
     "execution_count": 9,
     "metadata": {},
     "output_type": "execute_result"
    }
   ],
   "source": [
    "1-stats.norm.cdf(715,711,29)"
   ]
  },
  {
   "cell_type": "code",
   "execution_count": 10,
   "id": "9358d3c8",
   "metadata": {},
   "outputs": [
    {
     "data": {
      "text/plain": [
       "0.8413447460685429"
      ]
     },
     "execution_count": 10,
     "metadata": {},
     "output_type": "execute_result"
    }
   ],
   "source": [
    "stats.norm.cdf(740,711,29)"
   ]
  },
  {
   "cell_type": "code",
   "execution_count": 11,
   "id": "5ae5fd61",
   "metadata": {},
   "outputs": [
    {
     "data": {
      "text/plain": [
       "0.31463356742704107"
      ]
     },
     "execution_count": 11,
     "metadata": {},
     "output_type": "execute_result"
    }
   ],
   "source": [
    "stats.norm.cdf(697,711,29)"
   ]
  },
  {
   "cell_type": "code",
   "execution_count": 13,
   "id": "5b55b5ef",
   "metadata": {},
   "outputs": [
    {
     "data": {
      "text/plain": [
       "0.5267111786415019"
      ]
     },
     "execution_count": 13,
     "metadata": {},
     "output_type": "execute_result"
    }
   ],
   "source": [
    "stats.norm.cdf(740,711,29) - stats.norm.cdf(697,711,29)\n",
    "# first enter hiher value and then - lower value"
   ]
  },
  {
   "cell_type": "markdown",
   "id": "03546d59",
   "metadata": {},
   "source": [
    "# Point Percentage Function"
   ]
  },
  {
   "cell_type": "code",
   "execution_count": null,
   "id": "04893aca",
   "metadata": {},
   "outputs": [],
   "source": [
    "#mean(x) = 700, SD = 25, Probability = 0.85\n"
   ]
  },
  {
   "cell_type": "code",
   "execution_count": 14,
   "id": "dcc641b0",
   "metadata": {},
   "outputs": [
    {
     "data": {
      "text/plain": [
       "725.9108347373448"
      ]
     },
     "execution_count": 14,
     "metadata": {},
     "output_type": "execute_result"
    }
   ],
   "source": [
    "stats.norm.ppf(0.85,700,25)"
   ]
  },
  {
   "cell_type": "markdown",
   "id": "8a7da3bb",
   "metadata": {},
   "source": [
    "# Point Percentage Function\n",
    "Inclass activity\n",
    "\n",
    "- 1.According to the survey, the average weight of child is 70 pounds in US with std 10 pounds.\n",
    "    - What is the probability that the weight is less than 50?\n",
    "    - What is the probability that the weight is in range of 50 to 90?\n",
    "    - What is the probability that the weight is greater than 100 pounds?\n",
    "    - What is the probability that the weight is between 55 and 70?\n",
    "    - What is the probability that the weight is ewual to 75 pounds?"
   ]
  },
  {
   "cell_type": "code",
   "execution_count": 23,
   "id": "665b6e09",
   "metadata": {},
   "outputs": [
    {
     "data": {
      "text/plain": [
       "0.022750131948179195"
      ]
     },
     "execution_count": 23,
     "metadata": {},
     "output_type": "execute_result"
    }
   ],
   "source": [
    "#1\n",
    "stats.norm.cdf(50,70,10)"
   ]
  },
  {
   "cell_type": "code",
   "execution_count": 28,
   "id": "0b34a7fb",
   "metadata": {},
   "outputs": [
    {
     "data": {
      "text/plain": [
       "0.022750131948179195"
      ]
     },
     "execution_count": 28,
     "metadata": {},
     "output_type": "execute_result"
    }
   ],
   "source": [
    "#2\n",
    "stats.norm.cdf(50,70,10)"
   ]
  },
  {
   "cell_type": "code",
   "execution_count": 25,
   "id": "feef55e5",
   "metadata": {},
   "outputs": [
    {
     "data": {
      "text/plain": [
       "0.9772498680518208"
      ]
     },
     "execution_count": 25,
     "metadata": {},
     "output_type": "execute_result"
    }
   ],
   "source": [
    "stats.norm.cdf(90,70,10)"
   ]
  },
  {
   "cell_type": "code",
   "execution_count": 32,
   "id": "08f96078",
   "metadata": {},
   "outputs": [
    {
     "data": {
      "text/plain": [
       "0.9544997361036416"
      ]
     },
     "execution_count": 32,
     "metadata": {},
     "output_type": "execute_result"
    }
   ],
   "source": [
    "stats.norm.cdf(90,70,10)-stats.norm.cdf(50,70,10)"
   ]
  },
  {
   "cell_type": "code",
   "execution_count": 33,
   "id": "e6777c34",
   "metadata": {},
   "outputs": [
    {
     "data": {
      "text/plain": [
       "0.9986501019683699"
      ]
     },
     "execution_count": 33,
     "metadata": {},
     "output_type": "execute_result"
    }
   ],
   "source": [
    "#3\n",
    "stats.norm.cdf(100,70,10)"
   ]
  },
  {
   "cell_type": "code",
   "execution_count": 34,
   "id": "e7f87a41",
   "metadata": {},
   "outputs": [
    {
     "data": {
      "text/plain": [
       "0.0013498980316301035"
      ]
     },
     "execution_count": 34,
     "metadata": {},
     "output_type": "execute_result"
    }
   ],
   "source": [
    "1-stats.norm.cdf(100,70,10)"
   ]
  },
  {
   "cell_type": "code",
   "execution_count": 40,
   "id": "28806fcf",
   "metadata": {},
   "outputs": [
    {
     "data": {
      "text/plain": [
       "0.06680720126885807"
      ]
     },
     "execution_count": 40,
     "metadata": {},
     "output_type": "execute_result"
    }
   ],
   "source": [
    "#4\n",
    "stats.norm.cdf(55,70,10)"
   ]
  },
  {
   "cell_type": "code",
   "execution_count": 36,
   "id": "2028aa57",
   "metadata": {},
   "outputs": [
    {
     "data": {
      "text/plain": [
       "0.5"
      ]
     },
     "execution_count": 36,
     "metadata": {},
     "output_type": "execute_result"
    }
   ],
   "source": [
    "stats.norm.cdf(70,70,10)"
   ]
  },
  {
   "cell_type": "code",
   "execution_count": 42,
   "id": "8bd18eb0",
   "metadata": {},
   "outputs": [
    {
     "data": {
      "text/plain": [
       "0.4331927987311419"
      ]
     },
     "execution_count": 42,
     "metadata": {},
     "output_type": "execute_result"
    }
   ],
   "source": [
    "stats.norm.cdf(70,70,10)-stats.norm.cdf(55,70,10)"
   ]
  },
  {
   "cell_type": "code",
   "execution_count": 38,
   "id": "08e6a1af",
   "metadata": {},
   "outputs": [
    {
     "data": {
      "text/plain": [
       "0.6914624612740131"
      ]
     },
     "execution_count": 38,
     "metadata": {},
     "output_type": "execute_result"
    }
   ],
   "source": [
    "#5\n",
    "stats.norm.cdf(75,70,10)"
   ]
  },
  {
   "cell_type": "code",
   "execution_count": 39,
   "id": "04c63461",
   "metadata": {},
   "outputs": [
    {
     "name": "stdout",
     "output_type": "stream",
     "text": [
      "Probability that the weight is less than 50 pounds: 0.022750131948179195\n",
      "Probability that the weight is between 50 and 90 pounds: 0.9544997361036416\n",
      "Probability that the weight is greater than 100 pounds: 0.0013498980316301035\n",
      "Probability that the weight is between 55 and 70 pounds: 0.4331927987311419\n",
      "Probability that the weight is equal to 75 pounds: 0.03520653267642995\n"
     ]
    }
   ],
   "source": [
    "Using ChatGPT\n",
    "from scipy.stats import norm\n",
    "\n",
    "# Given data\n",
    "mean = 70  # Mean weight\n",
    "std = 10   # Standard deviation\n",
    "\n",
    "# Probability that the weight is less than 50 pounds\n",
    "prob_less_than_50 = norm.cdf(50, loc=mean, scale=std)\n",
    "print(\"Probability that the weight is less than 50 pounds:\", prob_less_than_50)\n",
    "\n",
    "# Probability that the weight is in the range of 50 to 90 pounds\n",
    "prob_between_50_and_90 = norm.cdf(90, loc=mean, scale=std) - norm.cdf(50, loc=mean, scale=std)\n",
    "print(\"Probability that the weight is between 50 and 90 pounds:\", prob_between_50_and_90)\n",
    "\n",
    "# Probability that the weight is greater than 100 pounds\n",
    "prob_greater_than_100 = 1 - norm.cdf(100, loc=mean, scale=std)\n",
    "print(\"Probability that the weight is greater than 100 pounds:\", prob_greater_than_100)\n",
    "\n",
    "# Probability that the weight is between 55 and 70 pounds\n",
    "prob_between_55_and_70 = norm.cdf(70, loc=mean, scale=std) - norm.cdf(55, loc=mean, scale=std)\n",
    "print(\"Probability that the weight is between 55 and 70 pounds:\", prob_between_55_and_70)\n",
    "\n",
    "# Probability that the weight is equal to 75 pounds (continuous distribution)\n",
    "# In practice, this probability is considered to be negligible for a continuous distribution.\n",
    "prob_equal_to_75 = norm.pdf(75, loc=mean, scale=std)\n",
    "print(\"Probability that the weight is equal to 75 pounds:\", prob_equal_to_75)\n"
   ]
  },
  {
   "cell_type": "code",
   "execution_count": null,
   "id": "e0e63106",
   "metadata": {},
   "outputs": [],
   "source": []
  }
 ],
 "metadata": {
  "kernelspec": {
   "display_name": "Python 3 (ipykernel)",
   "language": "python",
   "name": "python3"
  },
  "language_info": {
   "codemirror_mode": {
    "name": "ipython",
    "version": 3
   },
   "file_extension": ".py",
   "mimetype": "text/x-python",
   "name": "python",
   "nbconvert_exporter": "python",
   "pygments_lexer": "ipython3",
   "version": "3.11.3"
  }
 },
 "nbformat": 4,
 "nbformat_minor": 5
}
